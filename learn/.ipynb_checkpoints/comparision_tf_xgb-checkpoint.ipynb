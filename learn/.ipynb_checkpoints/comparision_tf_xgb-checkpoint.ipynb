{
 "cells": [
  {
   "cell_type": "markdown",
   "metadata": {},
   "source": [
    "## A Comparision of XGBoost and TensorFlow Boosted Trees\n",
    "\n",
    "April 17, 2019\n",
    "\n",
    "The gradient boosting decision trees algorithm is one of the best (I double it's the best, however) machine learning algorithm for tabular data in the field of supervised machine learning. Generally speaking, TensorFlow is used in the deep learning field with unstructured data, like images, videos, audios, and text. \n",
    "\n",
    "XGBoost is a powerful tool in not only competition like Kaggle, but also in industry for its high performance and wide-supported platforms. While TensorFlow got its crown in deep learning for its attractive philosophy, strong community, and vision to the future. \n",
    "\n",
    "TensorFlow supports boosted trees models but never got much attention in the world of machine learning. I just wonder if we could build our machine learning models basically with TensorFlow to keep consistency of our products, maybe at a cost of lower performance compared to XGBoost. \n",
    "\n",
    "Here comes this experiment."
   ]
  },
  {
   "cell_type": "code",
   "execution_count": 1,
   "metadata": {
    "ExecuteTime": {
     "end_time": "2019-04-17T09:04:55.913358Z",
     "start_time": "2019-04-17T09:04:53.969959Z"
    }
   },
   "outputs": [],
   "source": [
    "import numpy as np\n",
    "import pandas as pd\n",
    "import matplotlib.pyplot as plt\n",
    "import tensorflow as tf\n",
    "\n",
    "tf.enable_eager_execution()\n",
    "\n",
    "tf.logging.set_verbosity(tf.logging.ERROR)\n",
    "tf.set_random_seed(123)"
   ]
  },
  {
   "cell_type": "code",
   "execution_count": 2,
   "metadata": {
    "ExecuteTime": {
     "end_time": "2019-04-17T09:04:55.937245Z",
     "start_time": "2019-04-17T09:04:55.916225Z"
    }
   },
   "outputs": [],
   "source": [
    "# load dataset\n",
    "# dftrain = pd.read_csv('https://storage.googleapis.com/tfbt/titanic_train.csv')\n",
    "# dfeval = pd.read_csv('https://storage.googleapis.com/tfbt/titanic_eval.csv')\n",
    "dftrain = pd.read_csv('/Users/ewenwang/Documents/practice_data/titanic_train.csv')\n",
    "dfeval = pd.read_csv('/Users/ewenwang/Documents/practice_data/titanic_eval.csv')\n",
    "y_train = dftrain.pop('survived')\n",
    "y_eval = dfeval.pop('survived')"
   ]
  },
  {
   "cell_type": "markdown",
   "metadata": {},
   "source": [
    "### exploratory data analysis"
   ]
  },
  {
   "cell_type": "code",
   "execution_count": 3,
   "metadata": {
    "ExecuteTime": {
     "end_time": "2019-04-17T09:04:55.964210Z",
     "start_time": "2019-04-17T09:04:55.940235Z"
    }
   },
   "outputs": [
    {
     "data": {
      "text/html": [
       "<div>\n",
       "<style scoped>\n",
       "    .dataframe tbody tr th:only-of-type {\n",
       "        vertical-align: middle;\n",
       "    }\n",
       "\n",
       "    .dataframe tbody tr th {\n",
       "        vertical-align: top;\n",
       "    }\n",
       "\n",
       "    .dataframe thead th {\n",
       "        text-align: right;\n",
       "    }\n",
       "</style>\n",
       "<table border=\"1\" class=\"dataframe\">\n",
       "  <thead>\n",
       "    <tr style=\"text-align: right;\">\n",
       "      <th></th>\n",
       "      <th>sex</th>\n",
       "      <th>age</th>\n",
       "      <th>n_siblings_spouses</th>\n",
       "      <th>parch</th>\n",
       "      <th>fare</th>\n",
       "      <th>class</th>\n",
       "      <th>deck</th>\n",
       "      <th>embark_town</th>\n",
       "      <th>alone</th>\n",
       "    </tr>\n",
       "  </thead>\n",
       "  <tbody>\n",
       "    <tr>\n",
       "      <th>0</th>\n",
       "      <td>male</td>\n",
       "      <td>22.0</td>\n",
       "      <td>1</td>\n",
       "      <td>0</td>\n",
       "      <td>7.2500</td>\n",
       "      <td>Third</td>\n",
       "      <td>unknown</td>\n",
       "      <td>Southampton</td>\n",
       "      <td>n</td>\n",
       "    </tr>\n",
       "    <tr>\n",
       "      <th>1</th>\n",
       "      <td>female</td>\n",
       "      <td>38.0</td>\n",
       "      <td>1</td>\n",
       "      <td>0</td>\n",
       "      <td>71.2833</td>\n",
       "      <td>First</td>\n",
       "      <td>C</td>\n",
       "      <td>Cherbourg</td>\n",
       "      <td>n</td>\n",
       "    </tr>\n",
       "    <tr>\n",
       "      <th>2</th>\n",
       "      <td>female</td>\n",
       "      <td>26.0</td>\n",
       "      <td>0</td>\n",
       "      <td>0</td>\n",
       "      <td>7.9250</td>\n",
       "      <td>Third</td>\n",
       "      <td>unknown</td>\n",
       "      <td>Southampton</td>\n",
       "      <td>y</td>\n",
       "    </tr>\n",
       "    <tr>\n",
       "      <th>3</th>\n",
       "      <td>female</td>\n",
       "      <td>35.0</td>\n",
       "      <td>1</td>\n",
       "      <td>0</td>\n",
       "      <td>53.1000</td>\n",
       "      <td>First</td>\n",
       "      <td>C</td>\n",
       "      <td>Southampton</td>\n",
       "      <td>n</td>\n",
       "    </tr>\n",
       "    <tr>\n",
       "      <th>4</th>\n",
       "      <td>male</td>\n",
       "      <td>28.0</td>\n",
       "      <td>0</td>\n",
       "      <td>0</td>\n",
       "      <td>8.4583</td>\n",
       "      <td>Third</td>\n",
       "      <td>unknown</td>\n",
       "      <td>Queenstown</td>\n",
       "      <td>y</td>\n",
       "    </tr>\n",
       "  </tbody>\n",
       "</table>\n",
       "</div>"
      ],
      "text/plain": [
       "      sex   age  n_siblings_spouses  parch     fare  class     deck  \\\n",
       "0    male  22.0                   1      0   7.2500  Third  unknown   \n",
       "1  female  38.0                   1      0  71.2833  First        C   \n",
       "2  female  26.0                   0      0   7.9250  Third  unknown   \n",
       "3  female  35.0                   1      0  53.1000  First        C   \n",
       "4    male  28.0                   0      0   8.4583  Third  unknown   \n",
       "\n",
       "   embark_town alone  \n",
       "0  Southampton     n  \n",
       "1    Cherbourg     n  \n",
       "2  Southampton     y  \n",
       "3  Southampton     n  \n",
       "4   Queenstown     y  "
      ]
     },
     "execution_count": 3,
     "metadata": {},
     "output_type": "execute_result"
    }
   ],
   "source": [
    "dftrain.head()"
   ]
  },
  {
   "cell_type": "code",
   "execution_count": 4,
   "metadata": {
    "ExecuteTime": {
     "end_time": "2019-04-17T09:04:56.000045Z",
     "start_time": "2019-04-17T09:04:55.967674Z"
    }
   },
   "outputs": [
    {
     "data": {
      "text/html": [
       "<div>\n",
       "<style scoped>\n",
       "    .dataframe tbody tr th:only-of-type {\n",
       "        vertical-align: middle;\n",
       "    }\n",
       "\n",
       "    .dataframe tbody tr th {\n",
       "        vertical-align: top;\n",
       "    }\n",
       "\n",
       "    .dataframe thead th {\n",
       "        text-align: right;\n",
       "    }\n",
       "</style>\n",
       "<table border=\"1\" class=\"dataframe\">\n",
       "  <thead>\n",
       "    <tr style=\"text-align: right;\">\n",
       "      <th></th>\n",
       "      <th>age</th>\n",
       "      <th>n_siblings_spouses</th>\n",
       "      <th>parch</th>\n",
       "      <th>fare</th>\n",
       "    </tr>\n",
       "  </thead>\n",
       "  <tbody>\n",
       "    <tr>\n",
       "      <th>count</th>\n",
       "      <td>627.000000</td>\n",
       "      <td>627.000000</td>\n",
       "      <td>627.000000</td>\n",
       "      <td>627.000000</td>\n",
       "    </tr>\n",
       "    <tr>\n",
       "      <th>mean</th>\n",
       "      <td>29.631308</td>\n",
       "      <td>0.545455</td>\n",
       "      <td>0.379585</td>\n",
       "      <td>34.385399</td>\n",
       "    </tr>\n",
       "    <tr>\n",
       "      <th>std</th>\n",
       "      <td>12.511818</td>\n",
       "      <td>1.151090</td>\n",
       "      <td>0.792999</td>\n",
       "      <td>54.597730</td>\n",
       "    </tr>\n",
       "    <tr>\n",
       "      <th>min</th>\n",
       "      <td>0.750000</td>\n",
       "      <td>0.000000</td>\n",
       "      <td>0.000000</td>\n",
       "      <td>0.000000</td>\n",
       "    </tr>\n",
       "    <tr>\n",
       "      <th>25%</th>\n",
       "      <td>23.000000</td>\n",
       "      <td>0.000000</td>\n",
       "      <td>0.000000</td>\n",
       "      <td>7.895800</td>\n",
       "    </tr>\n",
       "    <tr>\n",
       "      <th>50%</th>\n",
       "      <td>28.000000</td>\n",
       "      <td>0.000000</td>\n",
       "      <td>0.000000</td>\n",
       "      <td>15.045800</td>\n",
       "    </tr>\n",
       "    <tr>\n",
       "      <th>75%</th>\n",
       "      <td>35.000000</td>\n",
       "      <td>1.000000</td>\n",
       "      <td>0.000000</td>\n",
       "      <td>31.387500</td>\n",
       "    </tr>\n",
       "    <tr>\n",
       "      <th>max</th>\n",
       "      <td>80.000000</td>\n",
       "      <td>8.000000</td>\n",
       "      <td>5.000000</td>\n",
       "      <td>512.329200</td>\n",
       "    </tr>\n",
       "  </tbody>\n",
       "</table>\n",
       "</div>"
      ],
      "text/plain": [
       "              age  n_siblings_spouses       parch        fare\n",
       "count  627.000000          627.000000  627.000000  627.000000\n",
       "mean    29.631308            0.545455    0.379585   34.385399\n",
       "std     12.511818            1.151090    0.792999   54.597730\n",
       "min      0.750000            0.000000    0.000000    0.000000\n",
       "25%     23.000000            0.000000    0.000000    7.895800\n",
       "50%     28.000000            0.000000    0.000000   15.045800\n",
       "75%     35.000000            1.000000    0.000000   31.387500\n",
       "max     80.000000            8.000000    5.000000  512.329200"
      ]
     },
     "execution_count": 4,
     "metadata": {},
     "output_type": "execute_result"
    }
   ],
   "source": [
    "dftrain.describe()"
   ]
  },
  {
   "cell_type": "code",
   "execution_count": 5,
   "metadata": {
    "ExecuteTime": {
     "end_time": "2019-04-17T09:04:56.009455Z",
     "start_time": "2019-04-17T09:04:56.002788Z"
    }
   },
   "outputs": [
    {
     "data": {
      "text/plain": [
       "(627, 264)"
      ]
     },
     "execution_count": 5,
     "metadata": {},
     "output_type": "execute_result"
    }
   ],
   "source": [
    "dftrain.shape[0], dfeval.shape[0]"
   ]
  },
  {
   "cell_type": "code",
   "execution_count": 6,
   "metadata": {
    "ExecuteTime": {
     "end_time": "2019-04-17T09:04:56.022580Z",
     "start_time": "2019-04-17T09:04:56.012281Z"
    }
   },
   "outputs": [
    {
     "data": {
      "text/plain": [
       "['seaborn-dark',\n",
       " 'seaborn-darkgrid',\n",
       " 'seaborn-ticks',\n",
       " 'fivethirtyeight',\n",
       " 'seaborn-whitegrid',\n",
       " 'classic',\n",
       " '_classic_test',\n",
       " 'fast',\n",
       " 'seaborn-talk',\n",
       " 'seaborn-dark-palette',\n",
       " 'seaborn-bright',\n",
       " 'seaborn-pastel',\n",
       " 'grayscale',\n",
       " 'seaborn-notebook',\n",
       " 'ggplot',\n",
       " 'seaborn-colorblind',\n",
       " 'seaborn-muted',\n",
       " 'seaborn',\n",
       " 'Solarize_Light2',\n",
       " 'seaborn-paper',\n",
       " 'bmh',\n",
       " 'tableau-colorblind10',\n",
       " 'seaborn-white',\n",
       " 'dark_background',\n",
       " 'seaborn-poster',\n",
       " 'seaborn-deep']"
      ]
     },
     "execution_count": 6,
     "metadata": {},
     "output_type": "execute_result"
    }
   ],
   "source": [
    "plt.style.available"
   ]
  },
  {
   "cell_type": "code",
   "execution_count": 7,
   "metadata": {
    "ExecuteTime": {
     "end_time": "2019-04-17T09:04:56.494546Z",
     "start_time": "2019-04-17T09:04:56.035886Z"
    },
    "scrolled": false
   },
   "outputs": [
    {
     "data": {
      "text/plain": [
       "<matplotlib.axes._subplots.AxesSubplot at 0x12b96a908>"
      ]
     },
     "execution_count": 7,
     "metadata": {},
     "output_type": "execute_result"
    },
    {
     "data": {
      "image/png": "[encoded data removed]",
      "text/plain": [
       "<Figure size 576x432 with 1 Axes>"
      ]
     },
     "metadata": {
      "needs_background": "light"
     },
     "output_type": "display_data"
    }
   ],
   "source": [
    "plt.rcParams[\"figure.figsize\"] = (8,6)\n",
    "\n",
    "# plt.style.use('seaborn-whitegrid')\n",
    "\n",
    "dftrain.age.hist(bins=20)"
   ]
  },
  {
   "cell_type": "code",
   "execution_count": 8,
   "metadata": {
    "ExecuteTime": {
     "end_time": "2019-04-17T09:04:56.729331Z",
     "start_time": "2019-04-17T09:04:56.498370Z"
    },
    "scrolled": false
   },
   "outputs": [
    {
     "data": {
      "text/plain": [
       "<matplotlib.axes._subplots.AxesSubplot at 0x12db66b38>"
      ]
     },
     "execution_count": 8,
     "metadata": {},
     "output_type": "execute_result"
    },
    {
     "data": {
      "image/png": "[encoded data removed]",
      "text/plain": [
       "<Figure size 576x432 with 1 Axes>"
      ]
     },
     "metadata": {
      "needs_background": "light"
     },
     "output_type": "display_data"
    }
   ],
   "source": [
    "plt.figure(figsize=(8, 6))\n",
    "dftrain.sex.value_counts().plot(kind='barh')"
   ]
  },
  {
   "cell_type": "code",
   "execution_count": 9,
   "metadata": {
    "ExecuteTime": {
     "end_time": "2019-04-17T09:04:56.999829Z",
     "start_time": "2019-04-17T09:04:56.731940Z"
    }
   },
   "outputs": [
    {
     "data": {
      "text/plain": [
       "<matplotlib.axes._subplots.AxesSubplot at 0x12dc0fac8>"
      ]
     },
     "execution_count": 9,
     "metadata": {},
     "output_type": "execute_result"
    },
    {
     "data": {
      "image/png": "[encoded data removed]",
      "text/plain": [
       "<Figure size 576x432 with 1 Axes>"
      ]
     },
     "metadata": {
      "needs_background": "light"
     },
     "output_type": "display_data"
    }
   ],
   "source": [
    "dftrain['class'].value_counts().plot(kind='barh')"
   ]
  },
  {
   "cell_type": "code",
   "execution_count": 10,
   "metadata": {
    "ExecuteTime": {
     "end_time": "2019-04-17T09:04:57.377033Z",
     "start_time": "2019-04-17T09:04:57.005583Z"
    }
   },
   "outputs": [
    {
     "data": {
      "text/plain": [
       "<matplotlib.axes._subplots.AxesSubplot at 0x12dc7f588>"
      ]
     },
     "execution_count": 10,
     "metadata": {},
     "output_type": "execute_result"
    },
    {
     "data": {
      "image/png": "[encoded data removed]",
      "text/plain": [
       "<Figure size 576x432 with 1 Axes>"
      ]
     },
     "metadata": {
      "needs_background": "light"
     },
     "output_type": "display_data"
    }
   ],
   "source": [
    "dftrain.embark_town.value_counts().plot(kind='barh')"
   ]
  },
  {
   "cell_type": "code",
   "execution_count": 11,
   "metadata": {
    "ExecuteTime": {
     "end_time": "2019-04-17T09:04:57.724403Z",
     "start_time": "2019-04-17T09:04:57.386984Z"
    }
   },
   "outputs": [
    {
     "data": {
      "text/plain": [
       "Text(0.5, 0, '% survive')"
      ]
     },
     "execution_count": 11,
     "metadata": {},
     "output_type": "execute_result"
    },
    {
     "data": {
      "image/png": "[encoded data removed]",
      "text/plain": [
       "<Figure size 576x432 with 1 Axes>"
      ]
     },
     "metadata": {
      "needs_background": "light"
     },
     "output_type": "display_data"
    }
   ],
   "source": [
    "ax = (pd.concat([dftrain, y_train], axis=1)\\\n",
    "     .groupby('sex')\n",
    "     .survived\n",
    "     .mean()\n",
    "     .plot(kind='barh'))\n",
    "ax.set_xlabel('% survive')"
   ]
  },
  {
   "cell_type": "markdown",
   "metadata": {},
   "source": [
    "### xgboost"
   ]
  },
  {
   "cell_type": "code",
   "execution_count": 12,
   "metadata": {
    "ExecuteTime": {
     "end_time": "2019-04-17T09:04:58.712143Z",
     "start_time": "2019-04-17T09:04:57.728222Z"
    },
    "scrolled": false
   },
   "outputs": [
    {
     "name": "stderr",
     "output_type": "stream",
     "text": [
      "/Library/Frameworks/Python.framework/Versions/3.7/lib/python3.7/site-packages/xgboost/core.py:587: FutureWarning: Series.base is deprecated and will be removed in a future version\n",
      "  if getattr(data, 'base', None) is not None and \\\n",
      "/Library/Frameworks/Python.framework/Versions/3.7/lib/python3.7/site-packages/xgboost/core.py:588: FutureWarning: Series.base is deprecated and will be removed in a future version\n",
      "  data.base is not None and isinstance(data, np.ndarray) \\\n"
     ]
    }
   ],
   "source": [
    "# preprocessing\n",
    "\n",
    "CATEGORICAL_COLUMNS = ['sex', 'n_siblings_spouses', 'parch', 'class', 'deck', 'embark_town', 'alone']\n",
    "NUMERIC_COLUMNS = ['age', 'fare']\n",
    "\n",
    "def preprocessing(data):\n",
    "    \n",
    "    # one-hot encoding\n",
    "    for col in CATEGORICAL_COLUMNS:\n",
    "        # use pd.concat to join the new columns with your original dataframe\n",
    "        data = pd.concat([data, pd.get_dummies(data[col], prefix=str(col), dummy_na=True)], axis=1)\n",
    "\n",
    "        # now drop the original 'country' column (you don't need it anymore)\n",
    "        data.drop([col], axis=1, inplace=True)\n",
    "    \n",
    "    return data\n",
    "\n",
    "dtrain = preprocessing(dftrain)\n",
    "dtest = preprocessing(dfeval)\n",
    "\n",
    "# note!\n",
    "dtest = dtest.drop('parch_6.0', axis=1)\n",
    "dtrain = dtrain.drop('deck_G', axis=1)\n",
    "\n",
    "import xgboost as xgb\n",
    "\n",
    "dtrain = xgb.DMatrix(dtrain, label=y_train)\n",
    "dtest = xgb.DMatrix(dtest, label=y_eval)"
   ]
  },
  {
   "cell_type": "code",
   "execution_count": 13,
   "metadata": {
    "ExecuteTime": {
     "end_time": "2019-04-17T09:04:59.608489Z",
     "start_time": "2019-04-17T09:04:58.715761Z"
    }
   },
   "outputs": [
    {
     "name": "stdout",
     "output_type": "stream",
     "text": [
      "[0]\ttrain-aucpr:0.822775+0.00859323\ttest-aucpr:0.798681+0.0781413\n",
      "[10]\ttrain-aucpr:0.864542+0.00720843\ttest-aucpr:0.834363+0.0540851\n",
      "[20]\ttrain-aucpr:0.86736+0.00557212\ttest-aucpr:0.831284+0.0585028\n",
      "[30]\ttrain-aucpr:0.869955+0.00472621\ttest-aucpr:0.839254+0.0501287\n",
      "[40]\ttrain-aucpr:0.870689+0.00470618\ttest-aucpr:0.838009+0.0508688\n",
      "31\n"
     ]
    }
   ],
   "source": [
    "n_rounds = 500\n",
    "early_stopping = 20\n",
    "verbose = 10\n",
    "seed = 123\n",
    "\n",
    "params = {\n",
    "    'objective': 'binary:logistic',\n",
    "    'tree_method': 'hist',\n",
    "    'eval_metric': 'aucpr',\n",
    "    'eta': 0.01,\n",
    "    'max_depth': 3,\n",
    "    'subsample': 0.75,\n",
    "    'colsample_bytree': 0.75,\n",
    "}\n",
    "\n",
    "cvr = xgb.cv(params=params,\n",
    "    dtrain=dtrain,\n",
    "    num_boost_round=n_rounds,\n",
    "    nfold=10,\n",
    "    stratified=True,\n",
    "    metrics='aucpr',\n",
    "    maximize=True,\n",
    "    early_stopping_rounds=early_stopping,\n",
    "    verbose_eval=verbose,\n",
    "    seed=seed)\n",
    "\n",
    "bst_rounds = cvr.shape[0]\n",
    "print(bst_rounds)"
   ]
  },
  {
   "cell_type": "code",
   "execution_count": 14,
   "metadata": {
    "ExecuteTime": {
     "end_time": "2019-04-17T09:04:59.707111Z",
     "start_time": "2019-04-17T09:04:59.611191Z"
    }
   },
   "outputs": [
    {
     "name": "stdout",
     "output_type": "stream",
     "text": [
      "[0]\ttrain-aucpr:0.831954\n",
      "[10]\ttrain-aucpr:0.86733\n",
      "[20]\ttrain-aucpr:0.869196\n",
      "[30]\ttrain-aucpr:0.868652\n"
     ]
    },
    {
     "data": {
      "text/plain": [
       "'[0]\\teval-aucpr:0.820446'"
      ]
     },
     "execution_count": 14,
     "metadata": {},
     "output_type": "execute_result"
    }
   ],
   "source": [
    "bst = xgb.train(params=params,\n",
    "    dtrain=dtrain,\n",
    "    evals=[(dtrain, 'train')],\n",
    "    num_boost_round=bst_rounds,\n",
    "    verbose_eval=verbose)\n",
    "\n",
    "bst.eval(dtest)"
   ]
  },
  {
   "cell_type": "code",
   "execution_count": null,
   "metadata": {},
   "outputs": [],
   "source": []
  },
  {
   "cell_type": "code",
   "execution_count": null,
   "metadata": {},
   "outputs": [],
   "source": []
  },
  {
   "cell_type": "code",
   "execution_count": null,
   "metadata": {},
   "outputs": [],
   "source": []
  },
  {
   "cell_type": "markdown",
   "metadata": {},
   "source": [
    "### tensorflow boosted trees"
   ]
  },
  {
   "cell_type": "code",
   "execution_count": 15,
   "metadata": {
    "ExecuteTime": {
     "end_time": "2019-04-17T09:04:59.724761Z",
     "start_time": "2019-04-17T09:04:59.709636Z"
    }
   },
   "outputs": [],
   "source": [
    "def one_hot_cat_column(feature_name, vocab):\n",
    "    return fc.indicator_column(\n",
    "        fc.categorical_column_with_vocabulary_list(feature_name, vocab))\n",
    "\n",
    "fc = tf.feature_column\n",
    "CATEGORICAL_COLUMNS = ['sex', 'n_siblings_spouses', 'parch', 'class', 'deck', 'embark_town', 'alone']\n",
    "NUMERIC_COLUMNS = ['age', 'fare']\n",
    "\n",
    "feature_columns = []\n",
    "for feature_name in CATEGORICAL_COLUMNS:\n",
    "    vocabulary = dftrain[feature_name].unique()\n",
    "    feature_columns.append(one_hot_cat_column(feature_name, vocabulary))\n",
    "    \n",
    "for feature_name in NUMERIC_COLUMNS:\n",
    "    feature_columns.append(fc.numeric_column(feature_name, dtype=tf.float32))"
   ]
  },
  {
   "cell_type": "code",
   "execution_count": 16,
   "metadata": {
    "ExecuteTime": {
     "end_time": "2019-04-17T09:04:59.736576Z",
     "start_time": "2019-04-17T09:04:59.728348Z"
    }
   },
   "outputs": [
    {
     "data": {
      "text/plain": [
       "[IndicatorColumn(categorical_column=VocabularyListCategoricalColumn(key='sex', vocabulary_list=('male', 'female'), dtype=tf.string, default_value=-1, num_oov_buckets=0)),\n",
       " IndicatorColumn(categorical_column=VocabularyListCategoricalColumn(key='n_siblings_spouses', vocabulary_list=(1, 0, 3, 4, 2, 5, 8), dtype=tf.int64, default_value=-1, num_oov_buckets=0)),\n",
       " IndicatorColumn(categorical_column=VocabularyListCategoricalColumn(key='parch', vocabulary_list=(0, 1, 2, 5, 3, 4), dtype=tf.int64, default_value=-1, num_oov_buckets=0)),\n",
       " IndicatorColumn(categorical_column=VocabularyListCategoricalColumn(key='class', vocabulary_list=('Third', 'First', 'Second'), dtype=tf.string, default_value=-1, num_oov_buckets=0)),\n",
       " IndicatorColumn(categorical_column=VocabularyListCategoricalColumn(key='deck', vocabulary_list=('unknown', 'C', 'G', 'A', 'B', 'D', 'F', 'E'), dtype=tf.string, default_value=-1, num_oov_buckets=0)),\n",
       " IndicatorColumn(categorical_column=VocabularyListCategoricalColumn(key='embark_town', vocabulary_list=('Southampton', 'Cherbourg', 'Queenstown', 'unknown'), dtype=tf.string, default_value=-1, num_oov_buckets=0)),\n",
       " IndicatorColumn(categorical_column=VocabularyListCategoricalColumn(key='alone', vocabulary_list=('n', 'y'), dtype=tf.string, default_value=-1, num_oov_buckets=0)),\n",
       " NumericColumn(key='age', shape=(1,), default_value=None, dtype=tf.float32, normalizer_fn=None),\n",
       " NumericColumn(key='fare', shape=(1,), default_value=None, dtype=tf.float32, normalizer_fn=None)]"
      ]
     },
     "execution_count": 16,
     "metadata": {},
     "output_type": "execute_result"
    }
   ],
   "source": [
    "feature_columns"
   ]
  },
  {
   "cell_type": "code",
   "execution_count": 17,
   "metadata": {
    "ExecuteTime": {
     "end_time": "2019-04-17T09:04:59.748174Z",
     "start_time": "2019-04-17T09:04:59.739943Z"
    }
   },
   "outputs": [],
   "source": [
    "# Use entire batch since this is such a small dataset.\n",
    "NUM_EXAMPLES = len(y_train)\n",
    "\n",
    "def make_input_fn(X, y, n_epochs=None, shuffle=True):\n",
    "  def input_fn():\n",
    "    dataset = tf.data.Dataset.from_tensor_slices((dict(X), y))\n",
    "    if shuffle:\n",
    "      dataset = dataset.shuffle(NUM_EXAMPLES)\n",
    "    # For training, cycle thru dataset as many times as need (n_epochs=None).    \n",
    "    dataset = dataset.repeat(n_epochs)  \n",
    "    # In memory training doesn't use batching.\n",
    "    dataset = dataset.batch(NUM_EXAMPLES)\n",
    "    return dataset\n",
    "  return input_fn\n",
    "\n",
    "# Training and evaluation input functions.\n",
    "train_input_fn = make_input_fn(dftrain, y_train)\n",
    "eval_input_fn = make_input_fn(dfeval, y_eval, shuffle=False, n_epochs=1)"
   ]
  },
  {
   "cell_type": "code",
   "execution_count": 18,
   "metadata": {
    "ExecuteTime": {
     "end_time": "2019-04-17T09:05:05.658495Z",
     "start_time": "2019-04-17T09:04:59.751692Z"
    }
   },
   "outputs": [
    {
     "name": "stdout",
     "output_type": "stream",
     "text": [
      "accuracy:  0.78409094\n",
      "dummy model:  0.625\n"
     ]
    }
   ],
   "source": [
    "linear_est = tf.estimator.LinearClassifier(feature_columns)\n",
    "\n",
    "# train model\n",
    "linear_est.train(train_input_fn, max_steps=100)\n",
    "\n",
    "# evaluation\n",
    "results = linear_est.evaluate(eval_input_fn)\n",
    "print('accuracy: ', results['accuracy'])\n",
    "print('dummy model: ', results['accuracy_baseline'])"
   ]
  },
  {
   "cell_type": "code",
   "execution_count": 19,
   "metadata": {
    "ExecuteTime": {
     "end_time": "2019-04-17T09:05:05.672040Z",
     "start_time": "2019-04-17T09:05:05.660595Z"
    },
    "scrolled": true
   },
   "outputs": [
    {
     "name": "stdout",
     "output_type": "stream",
     "text": [
      "Help on class BoostedTreesClassifier in module tensorflow_estimator.python.estimator.canned.boosted_trees:\n",
      "\n",
      "class BoostedTreesClassifier(_BoostedTreesBase)\n",
      " |  BoostedTreesClassifier(feature_columns, n_batches_per_layer, model_dir=None, n_classes=<object object at 0x12ad7d7c0>, weight_column=None, label_vocabulary=None, n_trees=100, max_depth=6, learning_rate=0.1, l1_regularization=0.0, l2_regularization=0.0, tree_complexity=0.0, min_node_weight=0.0, config=None, center_bias=False, pruning_mode='none', quantile_sketch_epsilon=0.01)\n",
      " |  \n",
      " |  A Classifier for Tensorflow Boosted Trees models.\n",
      " |  \n",
      " |  @compatibility(eager)\n",
      " |  Estimators can be used while eager execution is enabled. Note that `input_fn`\n",
      " |  and all hooks are executed inside a graph context, so they have to be written\n",
      " |  to be compatible with graph mode. Note that `input_fn` code using `tf.data`\n",
      " |  generally works in both graph and eager modes.\n",
      " |  @end_compatibility\n",
      " |  \n",
      " |  Method resolution order:\n",
      " |      BoostedTreesClassifier\n",
      " |      _BoostedTreesBase\n",
      " |      tensorflow_estimator.python.estimator.estimator.Estimator\n",
      " |      tensorflow_estimator.python.estimator.estimator.EstimatorV2\n",
      " |      builtins.object\n",
      " |  \n",
      " |  Methods defined here:\n",
      " |  \n",
      " |  __init__(self, feature_columns, n_batches_per_layer, model_dir=None, n_classes=<object object at 0x12ad7d7c0>, weight_column=None, label_vocabulary=None, n_trees=100, max_depth=6, learning_rate=0.1, l1_regularization=0.0, l2_regularization=0.0, tree_complexity=0.0, min_node_weight=0.0, config=None, center_bias=False, pruning_mode='none', quantile_sketch_epsilon=0.01)\n",
      " |      Initializes a `BoostedTreesClassifier` instance.\n",
      " |      \n",
      " |      Example:\n",
      " |      \n",
      " |      ```python\n",
      " |      bucketized_feature_1 = bucketized_column(\n",
      " |        numeric_column('feature_1'), BUCKET_BOUNDARIES_1)\n",
      " |      bucketized_feature_2 = bucketized_column(\n",
      " |        numeric_column('feature_2'), BUCKET_BOUNDARIES_2)\n",
      " |      \n",
      " |      # Need to see a large portion of the data before we can build a layer, for\n",
      " |      # example half of data n_batches_per_layer = 0.5 * NUM_EXAMPLES / BATCH_SIZE\n",
      " |      classifier = estimator.BoostedTreesClassifier(\n",
      " |          feature_columns=[bucketized_feature_1, bucketized_feature_2],\n",
      " |          n_batches_per_layer=n_batches_per_layer,\n",
      " |          n_trees=100,\n",
      " |          ... <some other params>\n",
      " |      )\n",
      " |      \n",
      " |      def input_fn_train():\n",
      " |        ...\n",
      " |        return dataset\n",
      " |      \n",
      " |      classifier.train(input_fn=input_fn_train)\n",
      " |      \n",
      " |      def input_fn_eval():\n",
      " |        ...\n",
      " |        return dataset\n",
      " |      \n",
      " |      metrics = classifier.evaluate(input_fn=input_fn_eval)\n",
      " |      ```\n",
      " |      \n",
      " |      Args:\n",
      " |        feature_columns: An iterable containing all the feature columns used by\n",
      " |          the model. All items in the set should be instances of classes derived\n",
      " |          from `FeatureColumn`.\n",
      " |        n_batches_per_layer: the number of batches to collect statistics per\n",
      " |          layer. The total number of batches is total number of data divided by\n",
      " |          batch size.\n",
      " |        model_dir: Directory to save model parameters, graph and etc. This can\n",
      " |          also be used to load checkpoints from the directory into a estimator to\n",
      " |          continue training a previously saved model.\n",
      " |        n_classes: number of label classes. Default is binary classification.\n",
      " |          Multiclass support is not yet implemented.\n",
      " |        weight_column: A string or a `NumericColumn` created by\n",
      " |          `tf.fc_old.numeric_column` defining feature column representing\n",
      " |          weights. It is used to downweight or boost examples during training. It\n",
      " |          will be multiplied by the loss of the example. If it is a string, it is\n",
      " |          used as a key to fetch weight tensor from the `features`. If it is a\n",
      " |          `NumericColumn`, raw tensor is fetched by key `weight_column.key`,\n",
      " |          then weight_column.normalizer_fn is applied on it to get weight tensor.\n",
      " |        label_vocabulary: A list of strings represents possible label values. If\n",
      " |          given, labels must be string type and have any value in\n",
      " |          `label_vocabulary`. If it is not given, that means labels are already\n",
      " |          encoded as integer or float within [0, 1] for `n_classes=2` and encoded\n",
      " |          as integer values in {0, 1,..., n_classes-1} for `n_classes`>2 . Also\n",
      " |          there will be errors if vocabulary is not provided and labels are\n",
      " |          string.\n",
      " |        n_trees: number trees to be created.\n",
      " |        max_depth: maximum depth of the tree to grow.\n",
      " |        learning_rate: shrinkage parameter to be used when a tree added to the\n",
      " |          model.\n",
      " |        l1_regularization: regularization multiplier applied to the absolute\n",
      " |          weights of the tree leafs.\n",
      " |        l2_regularization: regularization multiplier applied to the square weights\n",
      " |          of the tree leafs.\n",
      " |        tree_complexity: regularization factor to penalize trees with more leaves.\n",
      " |        min_node_weight: min_node_weight: minimum hessian a node must have for a\n",
      " |          split to be considered. The value will be compared with\n",
      " |          sum(leaf_hessian)/(batch_size * n_batches_per_layer).\n",
      " |        config: `RunConfig` object to configure the runtime settings.\n",
      " |        center_bias: Whether bias centering needs to occur. Bias centering refers\n",
      " |          to the first node in the very first tree returning the prediction that\n",
      " |          is aligned with the original labels distribution. For example, for\n",
      " |          regression problems, the first node will return the mean of the labels.\n",
      " |          For binary classification problems, it will return a logit for a prior\n",
      " |          probability of label 1.\n",
      " |        pruning_mode: one of 'none', 'pre', 'post' to indicate no pruning, pre-\n",
      " |          pruning (do not split a node if not enough gain is observed) and post\n",
      " |          pruning (build the tree up to a max depth and then prune branches with\n",
      " |          negative gain). For pre and post pruning, you MUST provide\n",
      " |          tree_complexity >0.\n",
      " |        quantile_sketch_epsilon: float between 0 and 1. Error bound for quantile\n",
      " |          computation. This is only used for float feature columns, and the number\n",
      " |          of buckets generated per float feature is 1/quantile_sketch_epsilon.\n",
      " |      \n",
      " |      Raises:\n",
      " |        ValueError: when wrong arguments are given or unsupported functionalities\n",
      " |           are requested.\n",
      " |  \n",
      " |  ----------------------------------------------------------------------\n",
      " |  Methods inherited from _BoostedTreesBase:\n",
      " |  \n",
      " |  experimental_feature_importances(self, normalize=False)\n",
      " |      Computes gain-based feature importances.\n",
      " |      \n",
      " |      The higher the value, the more important the corresponding feature.\n",
      " |      \n",
      " |      Args:\n",
      " |        normalize: If True, normalize the feature importances.\n",
      " |      \n",
      " |      Returns:\n",
      " |        sorted_feature_names: 1-D array of feature name which is sorted\n",
      " |          by its feature importance.\n",
      " |        feature_importances: 1-D array of the corresponding feature importance.\n",
      " |      \n",
      " |      Raises:\n",
      " |        ValueError: When attempting to normalize on an empty ensemble\n",
      " |          or an ensemble of trees which have no splits. Or when attempting\n",
      " |          to normalize and feature importances have negative values.\n",
      " |  \n",
      " |  experimental_predict_with_explanations(self, input_fn, predict_keys=None, hooks=None, checkpoint_path=None)\n",
      " |      Computes model explainability outputs per example along with predictions.\n",
      " |      \n",
      " |      Currently supports directional feature contributions (DFCs). For each\n",
      " |      instance, DFCs indicate the aggregate contribution of each feature. See\n",
      " |      https://arxiv.org/abs/1312.1121 and\n",
      " |      http://blog.datadive.net/interpreting-random-forests/ for more details.\n",
      " |      Args:\n",
      " |        input_fn: A function that provides input data for predicting as\n",
      " |          minibatches. See [Premade Estimators](\n",
      " |          https://tensorflow.org/guide/premade_estimators#create_input_functions)\n",
      " |            for more information. The function should construct and return one of\n",
      " |          the following:  * A `tf.data.Dataset` object: Outputs of `Dataset`\n",
      " |            object must be a tuple `(features, labels)` with same constraints as\n",
      " |          below. * A tuple `(features, labels)`: Where `features` is a `tf.Tensor`\n",
      " |            or a dictionary of string feature name to `Tensor` and `labels` is a\n",
      " |            `Tensor` or a dictionary of string label name to `Tensor`. Both\n",
      " |            `features` and `labels` are consumed by `model_fn`. They should\n",
      " |            satisfy the expectation of `model_fn` from inputs.\n",
      " |        predict_keys: list of `str`, name of the keys to predict. It is used if\n",
      " |          the `tf.estimator.EstimatorSpec.predictions` is a `dict`. If\n",
      " |          `predict_keys` is used then rest of the predictions will be filtered\n",
      " |          from the dictionary, with the exception of 'bias' and 'dfc', which will\n",
      " |          always be in the dictionary. If `None`, returns all keys in prediction\n",
      " |          dict, as well as two new keys 'dfc' and 'bias'.\n",
      " |        hooks: List of `tf.train.SessionRunHook` subclass instances. Used for\n",
      " |          callbacks inside the prediction call.\n",
      " |        checkpoint_path: Path of a specific checkpoint to predict. If `None`, the\n",
      " |          latest checkpoint in `model_dir` is used.  If there are no checkpoints\n",
      " |          in `model_dir`, prediction is run with newly initialized `Variables`\n",
      " |          instead of ones restored from checkpoint.\n",
      " |      \n",
      " |      Yields:\n",
      " |        Evaluated values of `predictions` tensors. The `predictions` tensors will\n",
      " |        contain at least two keys 'dfc' and 'bias' for model explanations. The\n",
      " |        `dfc` value corresponds to the contribution of each feature to the overall\n",
      " |        prediction for this instance (positive indicating that the feature makes\n",
      " |        it more likely to select class 1 and negative less likely). The 'bias'\n",
      " |        value will be the same across all the instances, corresponding to the\n",
      " |        probability (classification) or prediction (regression) of the training\n",
      " |        data distribution.\n",
      " |      \n",
      " |      Raises:\n",
      " |        ValueError: when wrong arguments are given or unsupported functionalities\n",
      " |         are requested.\n",
      " |  \n",
      " |  ----------------------------------------------------------------------\n",
      " |  Methods inherited from tensorflow_estimator.python.estimator.estimator.Estimator:\n",
      " |  \n",
      " |  export_saved_model(self, export_dir_base, serving_input_receiver_fn, assets_extra=None, as_text=False, checkpoint_path=None, experimental_mode='infer')\n",
      " |      Exports inference graph as a `SavedModel` into the given dir.\n",
      " |      \n",
      " |      For a detailed guide, see\n",
      " |      [Using SavedModel with Estimators](https://tensorflow.org/guide/saved_model#using_savedmodel_with_estimators).\n",
      " |      \n",
      " |      This method builds a new graph by first calling the\n",
      " |      `serving_input_receiver_fn` to obtain feature `Tensor`s, and then calling\n",
      " |      this `Estimator`'s `model_fn` to generate the model graph based on those\n",
      " |      features. It restores the given checkpoint (or, lacking that, the most\n",
      " |      recent checkpoint) into this graph in a fresh session.  Finally it creates\n",
      " |      a timestamped export directory below the given `export_dir_base`, and writes\n",
      " |      a `SavedModel` into it containing a single `tf.MetaGraphDef` saved from this\n",
      " |      session.\n",
      " |      \n",
      " |      The exported `MetaGraphDef` will provide one `SignatureDef` for each\n",
      " |      element of the `export_outputs` dict returned from the `model_fn`, named\n",
      " |      using\n",
      " |      the same keys.  One of these keys is always\n",
      " |      `tf.saved_model.signature_constants.DEFAULT_SERVING_SIGNATURE_DEF_KEY`,\n",
      " |      indicating which\n",
      " |      signature will be served when a serving request does not specify one.\n",
      " |      For each signature, the outputs are provided by the corresponding\n",
      " |      `tf.estimator.export.ExportOutput`s, and the inputs are always the input\n",
      " |      receivers provided by\n",
      " |      the `serving_input_receiver_fn`.\n",
      " |      \n",
      " |      Extra assets may be written into the `SavedModel` via the `assets_extra`\n",
      " |      argument.  This should be a dict, where each key gives a destination path\n",
      " |      (including the filename) relative to the assets.extra directory.  The\n",
      " |      corresponding value gives the full path of the source file to be copied.\n",
      " |      For example, the simple case of copying a single file without renaming it\n",
      " |      is specified as `{'my_asset_file.txt': '/path/to/my_asset_file.txt'}`.\n",
      " |      \n",
      " |      The experimental_mode parameter can be used to export a single\n",
      " |      train/eval/predict graph as a `SavedModel`.\n",
      " |      See `experimental_export_all_saved_models` for full docs.\n",
      " |      \n",
      " |      Args:\n",
      " |        export_dir_base: A string containing a directory in which to create\n",
      " |          timestamped subdirectories containing exported `SavedModel`s.\n",
      " |        serving_input_receiver_fn: A function that takes no argument and returns a\n",
      " |          `tf.estimator.export.ServingInputReceiver` or\n",
      " |          `tf.estimator.export.TensorServingInputReceiver`.\n",
      " |        assets_extra: A dict specifying how to populate the assets.extra directory\n",
      " |          within the exported `SavedModel`, or `None` if no extra assets are\n",
      " |          needed.\n",
      " |        as_text: whether to write the `SavedModel` proto in text format.\n",
      " |        checkpoint_path: The checkpoint path to export.  If `None` (the default),\n",
      " |          the most recent checkpoint found within the model directory is chosen.\n",
      " |        experimental_mode: `tf.estimator.ModeKeys` value indicating with mode\n",
      " |          will be exported. Note that this feature is experimental.\n",
      " |      \n",
      " |      Returns:\n",
      " |        The string path to the exported directory.\n",
      " |      \n",
      " |      Raises:\n",
      " |        ValueError: if no `serving_input_receiver_fn` is provided, no\n",
      " |        `export_outputs` are provided, or no checkpoint can be found.\n",
      " |  \n",
      " |  export_savedmodel(self, export_dir_base, serving_input_receiver_fn, assets_extra=None, as_text=False, checkpoint_path=None, strip_default_attrs=False)\n",
      " |      Exports inference graph as a `SavedModel` into the given dir.\n",
      " |      \n",
      " |      For a detailed guide, see\n",
      " |      [Using SavedModel with Estimators](https://tensorflow.org/guide/saved_model#using_savedmodel_with_estimators).\n",
      " |      \n",
      " |      This method builds a new graph by first calling the\n",
      " |      `serving_input_receiver_fn` to obtain feature `Tensor`s, and then calling\n",
      " |      this `Estimator`'s `model_fn` to generate the model graph based on those\n",
      " |      features. It restores the given checkpoint (or, lacking that, the most\n",
      " |      recent checkpoint) into this graph in a fresh session.  Finally it creates\n",
      " |      a timestamped export directory below the given `export_dir_base`, and writes\n",
      " |      a `SavedModel` into it containing a single `tf.MetaGraphDef` saved from this\n",
      " |      session.\n",
      " |      \n",
      " |      The exported `MetaGraphDef` will provide one `SignatureDef` for each\n",
      " |      element of the `export_outputs` dict returned from the `model_fn`, named\n",
      " |      using\n",
      " |      the same keys.  One of these keys is always\n",
      " |      `tf.saved_model.signature_constants.DEFAULT_SERVING_SIGNATURE_DEF_KEY`,\n",
      " |      indicating which\n",
      " |      signature will be served when a serving request does not specify one.\n",
      " |      For each signature, the outputs are provided by the corresponding\n",
      " |      `tf.estimator.export.ExportOutput`s, and the inputs are always the input\n",
      " |      receivers provided by\n",
      " |      the `serving_input_receiver_fn`.\n",
      " |      \n",
      " |      Extra assets may be written into the `SavedModel` via the `assets_extra`\n",
      " |      argument.  This should be a dict, where each key gives a destination path\n",
      " |      (including the filename) relative to the assets.extra directory.  The\n",
      " |      corresponding value gives the full path of the source file to be copied.\n",
      " |      For example, the simple case of copying a single file without renaming it\n",
      " |      is specified as `{'my_asset_file.txt': '/path/to/my_asset_file.txt'}`.\n",
      " |      \n",
      " |      Args:\n",
      " |        export_dir_base: A string containing a directory in which to create\n",
      " |          timestamped subdirectories containing exported `SavedModel`s.\n",
      " |        serving_input_receiver_fn: A function that takes no argument and returns a\n",
      " |          `tf.estimator.export.ServingInputReceiver` or\n",
      " |          `tf.estimator.export.TensorServingInputReceiver`.\n",
      " |        assets_extra: A dict specifying how to populate the assets.extra directory\n",
      " |          within the exported `SavedModel`, or `None` if no extra assets are\n",
      " |          needed.\n",
      " |        as_text: whether to write the `SavedModel` proto in text format.\n",
      " |        checkpoint_path: The checkpoint path to export.  If `None` (the default),\n",
      " |          the most recent checkpoint found within the model directory is chosen.\n",
      " |        strip_default_attrs: Boolean. If `True`, default-valued attributes will be\n",
      " |          removed from the `NodeDef`s. For a detailed guide, see [Stripping\n",
      " |          Default-Valued Attributes](\n",
      " |          https://github.com/tensorflow/tensorflow/blob/master/tensorflow/python/saved_model/README.md#stripping-default-valued-attributes).\n",
      " |      \n",
      " |      Returns:\n",
      " |        The string path to the exported directory.\n",
      " |      \n",
      " |      Raises:\n",
      " |        ValueError: if no `serving_input_receiver_fn` is provided, no\n",
      " |        `export_outputs` are provided, or no checkpoint can be found.\n",
      " |  \n",
      " |  ----------------------------------------------------------------------\n",
      " |  Methods inherited from tensorflow_estimator.python.estimator.estimator.EstimatorV2:\n",
      " |  \n",
      " |  eval_dir(self, name=None)\n",
      " |      Shows the directory name where evaluation metrics are dumped.\n",
      " |      \n",
      " |      Args:\n",
      " |        name: Name of the evaluation if user needs to run multiple evaluations on\n",
      " |          different data sets, such as on training data vs test data. Metrics for\n",
      " |          different evaluations are saved in separate folders, and appear\n",
      " |          separately in tensorboard.\n",
      " |      \n",
      " |      Returns:\n",
      " |        A string which is the path of directory contains evaluation metrics.\n",
      " |  \n",
      " |  evaluate(self, input_fn, steps=None, hooks=None, checkpoint_path=None, name=None)\n",
      " |      Evaluates the model given evaluation data `input_fn`.\n",
      " |      \n",
      " |      For each step, calls `input_fn`, which returns one batch of data.\n",
      " |      Evaluates until:\n",
      " |      - `steps` batches are processed, or\n",
      " |      - `input_fn` raises an end-of-input exception (`tf.errors.OutOfRangeError`\n",
      " |      or\n",
      " |      `StopIteration`).\n",
      " |      \n",
      " |      Args:\n",
      " |        input_fn: A function that constructs the input data for evaluation. See\n",
      " |          [Premade Estimators](\n",
      " |          https://tensorflow.org/guide/premade#create_input_functions)\n",
      " |          for more information. The\n",
      " |          function should construct and return one of the following:  * A\n",
      " |          `tf.data.Dataset` object: Outputs of `Dataset` object must be a tuple\n",
      " |          `(features, labels)` with same constraints as below. * A tuple\n",
      " |          `(features, labels)`: Where `features` is a `tf.Tensor` or a dictionary\n",
      " |          of string feature name to `Tensor` and `labels` is a `Tensor` or a\n",
      " |          dictionary of string label name to `Tensor`. Both `features` and\n",
      " |          `labels` are consumed by `model_fn`. They should satisfy the expectation\n",
      " |          of `model_fn` from inputs.\n",
      " |        steps: Number of steps for which to evaluate model. If `None`, evaluates\n",
      " |          until `input_fn` raises an end-of-input exception.\n",
      " |        hooks: List of `tf.train.SessionRunHook` subclass instances. Used for\n",
      " |          callbacks inside the evaluation call.\n",
      " |        checkpoint_path: Path of a specific checkpoint to evaluate. If `None`, the\n",
      " |          latest checkpoint in `model_dir` is used.  If there are no checkpoints\n",
      " |          in `model_dir`, evaluation is run with newly initialized `Variables`\n",
      " |          instead of ones restored from checkpoint.\n",
      " |        name: Name of the evaluation if user needs to run multiple evaluations on\n",
      " |          different data sets, such as on training data vs test data. Metrics for\n",
      " |          different evaluations are saved in separate folders, and appear\n",
      " |          separately in tensorboard.\n",
      " |      \n",
      " |      Returns:\n",
      " |        A dict containing the evaluation metrics specified in `model_fn` keyed by\n",
      " |        name, as well as an entry `global_step` which contains the value of the\n",
      " |        global step for which this evaluation was performed. For canned\n",
      " |        estimators, the dict contains the `loss` (mean loss per mini-batch) and\n",
      " |        the `average_loss` (mean loss per sample). Canned classifiers also return\n",
      " |        the `accuracy`. Canned regressors also return the `label/mean` and the\n",
      " |        `prediction/mean`.\n",
      " |      \n",
      " |      Raises:\n",
      " |        ValueError: If `steps <= 0`.\n",
      " |        ValueError: If no model has been trained, namely `model_dir`, or the\n",
      " |          given `checkpoint_path` is empty.\n",
      " |  \n",
      " |  experimental_export_all_saved_models(self, export_dir_base, input_receiver_fn_map, assets_extra=None, as_text=False, checkpoint_path=None)\n",
      " |      Exports a `SavedModel` with `tf.MetaGraphDefs` for each requested mode.\n",
      " |      \n",
      " |      For each mode passed in via the `input_receiver_fn_map`,\n",
      " |      this method builds a new graph by calling the `input_receiver_fn` to obtain\n",
      " |      feature and label `Tensor`s. Next, this method calls the `Estimator`'s\n",
      " |      `model_fn` in the passed mode to generate the model graph based on\n",
      " |      those features and labels, and restores the given checkpoint\n",
      " |      (or, lacking that, the most recent checkpoint) into the graph.\n",
      " |      Only one of the modes is used for saving variables to the `SavedModel`\n",
      " |      (order of preference: `tf.estimator.ModeKeys.TRAIN`,\n",
      " |      `tf.estimator.ModeKeys.EVAL`, then\n",
      " |      `tf.estimator.ModeKeys.PREDICT`), such that up to three\n",
      " |      `tf.MetaGraphDefs` are saved with a single set of variables in a single\n",
      " |      `SavedModel` directory.\n",
      " |      \n",
      " |      For the variables and `tf.MetaGraphDefs`, a timestamped export directory\n",
      " |      below\n",
      " |      `export_dir_base`, and writes a `SavedModel` into it containing\n",
      " |      the `tf.MetaGraphDef` for the given mode and its associated signatures.\n",
      " |      \n",
      " |      For prediction, the exported `MetaGraphDef` will provide one `SignatureDef`\n",
      " |      for each element of the `export_outputs` dict returned from the `model_fn`,\n",
      " |      named using the same keys.  One of these keys is always\n",
      " |      `tf.saved_model.signature_constants.DEFAULT_SERVING_SIGNATURE_DEF_KEY`,\n",
      " |      indicating which\n",
      " |      signature will be served when a serving request does not specify one.\n",
      " |      For each signature, the outputs are provided by the corresponding\n",
      " |      `tf.estimator.export.ExportOutput`s, and the inputs are always the input\n",
      " |      receivers provided by\n",
      " |      the `serving_input_receiver_fn`.\n",
      " |      \n",
      " |      For training and evaluation, the `train_op` is stored in an extra\n",
      " |      collection,\n",
      " |      and loss, metrics, and predictions are included in a `SignatureDef` for the\n",
      " |      mode in question.\n",
      " |      \n",
      " |      Extra assets may be written into the `SavedModel` via the `assets_extra`\n",
      " |      argument.  This should be a dict, where each key gives a destination path\n",
      " |      (including the filename) relative to the assets.extra directory.  The\n",
      " |      corresponding value gives the full path of the source file to be copied.\n",
      " |      For example, the simple case of copying a single file without renaming it\n",
      " |      is specified as `{'my_asset_file.txt': '/path/to/my_asset_file.txt'}`.\n",
      " |      \n",
      " |      Args:\n",
      " |        export_dir_base: A string containing a directory in which to create\n",
      " |          timestamped subdirectories containing exported `SavedModel`s.\n",
      " |        input_receiver_fn_map: dict of `tf.estimator.ModeKeys` to\n",
      " |          `input_receiver_fn` mappings, where the `input_receiver_fn` is a\n",
      " |          function that takes no arguments and returns the appropriate subclass of\n",
      " |          `InputReceiver`.\n",
      " |        assets_extra: A dict specifying how to populate the assets.extra directory\n",
      " |          within the exported `SavedModel`, or `None` if no extra assets are\n",
      " |          needed.\n",
      " |        as_text: whether to write the `SavedModel` proto in text format.\n",
      " |        checkpoint_path: The checkpoint path to export.  If `None` (the default),\n",
      " |          the most recent checkpoint found within the model directory is chosen.\n",
      " |      \n",
      " |      Returns:\n",
      " |        The string path to the exported directory.\n",
      " |      \n",
      " |      Raises:\n",
      " |        ValueError: if any `input_receiver_fn` is `None`, no `export_outputs`\n",
      " |          are provided, or no checkpoint can be found.\n",
      " |  \n",
      " |  get_variable_names(self)\n",
      " |      Returns list of all variable names in this model.\n",
      " |      \n",
      " |      Returns:\n",
      " |        List of names.\n",
      " |      \n",
      " |      Raises:\n",
      " |        ValueError: If the `Estimator` has not produced a checkpoint yet.\n",
      " |  \n",
      " |  get_variable_value(self, name)\n",
      " |      Returns value of the variable given by name.\n",
      " |      \n",
      " |      Args:\n",
      " |        name: string or a list of string, name of the tensor.\n",
      " |      \n",
      " |      Returns:\n",
      " |        Numpy array - value of the tensor.\n",
      " |      \n",
      " |      Raises:\n",
      " |        ValueError: If the `Estimator` has not produced a checkpoint yet.\n",
      " |  \n",
      " |  latest_checkpoint(self)\n",
      " |      Finds the filename of the latest saved checkpoint file in `model_dir`.\n",
      " |      \n",
      " |      Returns:\n",
      " |        The full path to the latest checkpoint or `None` if no checkpoint was\n",
      " |        found.\n",
      " |  \n",
      " |  predict(self, input_fn, predict_keys=None, hooks=None, checkpoint_path=None, yield_single_examples=True)\n",
      " |      Yields predictions for given features.\n",
      " |      \n",
      " |      Please note that interleaving two predict outputs does not work. See:\n",
      " |      [issue/20506](\n",
      " |      https://github.com/tensorflow/tensorflow/issues/20506#issuecomment-422208517)\n",
      " |      \n",
      " |      Args:\n",
      " |        input_fn: A function that constructs the features. Prediction continues\n",
      " |          until `input_fn` raises an end-of-input exception\n",
      " |          (`tf.errors.OutOfRangeError` or `StopIteration`).\n",
      " |          See [Premade Estimators](\n",
      " |          https://tensorflow.org/guide/premade_estimators#create_input_functions)\n",
      " |          for more information. The function should construct and return one of\n",
      " |          the following:\n",
      " |      \n",
      " |            * A `tf.data.Dataset` object: Outputs of `Dataset` object must have\n",
      " |              same constraints as below.\n",
      " |            * features: A `tf.Tensor` or a dictionary of string feature name to\n",
      " |              `Tensor`. features are consumed by `model_fn`. They should satisfy\n",
      " |              the expectation of `model_fn` from inputs.\n",
      " |            * A tuple, in which case the first item is extracted as features.\n",
      " |      \n",
      " |        predict_keys: list of `str`, name of the keys to predict. It is used if\n",
      " |          the `tf.estimator.EstimatorSpec.predictions` is a `dict`. If\n",
      " |          `predict_keys` is used then rest of the predictions will be filtered\n",
      " |          from the dictionary. If `None`, returns all.\n",
      " |        hooks: List of `tf.train.SessionRunHook` subclass instances. Used for\n",
      " |          callbacks inside the prediction call.\n",
      " |        checkpoint_path: Path of a specific checkpoint to predict. If `None`, the\n",
      " |          latest checkpoint in `model_dir` is used.  If there are no checkpoints\n",
      " |          in `model_dir`, prediction is run with newly initialized `Variables`\n",
      " |          instead of ones restored from checkpoint.\n",
      " |        yield_single_examples: If `False`, yields the whole batch as returned by\n",
      " |          the `model_fn` instead of decomposing the batch into individual\n",
      " |          elements. This is useful if `model_fn` returns some tensors whose first\n",
      " |          dimension is not equal to the batch size.\n",
      " |      \n",
      " |      Yields:\n",
      " |        Evaluated values of `predictions` tensors.\n",
      " |      \n",
      " |      Raises:\n",
      " |        ValueError: Could not find a trained model in `model_dir`.\n",
      " |        ValueError: If batch length of predictions is not the same and\n",
      " |          `yield_single_examples` is `True`.\n",
      " |        ValueError: If there is a conflict between `predict_keys` and\n",
      " |          `predictions`. For example if `predict_keys` is not `None` but\n",
      " |          `tf.estimator.EstimatorSpec.predictions` is not a `dict`.\n",
      " |  \n",
      " |  train(self, input_fn, hooks=None, steps=None, max_steps=None, saving_listeners=None)\n",
      " |      Trains a model given training data `input_fn`.\n",
      " |      \n",
      " |      Args:\n",
      " |        input_fn: A function that provides input data for training as minibatches.\n",
      " |          See [Premade Estimators](\n",
      " |          https://tensorflow.org/guide/premade_estimators#create_input_functions)\n",
      " |          for more information. The function should construct and return one of\n",
      " |          the following:  * A\n",
      " |          `tf.data.Dataset` object: Outputs of `Dataset` object must be a tuple\n",
      " |          `(features, labels)` with same constraints as below. * A tuple\n",
      " |          `(features, labels)`: Where `features` is a `tf.Tensor` or a dictionary\n",
      " |          of string feature name to `Tensor` and `labels` is a `Tensor` or a\n",
      " |          dictionary of string label name to `Tensor`. Both `features` and\n",
      " |          `labels` are consumed by `model_fn`. They should satisfy the expectation\n",
      " |          of `model_fn` from inputs.\n",
      " |        hooks: List of `tf.train.SessionRunHook` subclass instances. Used for\n",
      " |          callbacks inside the training loop.\n",
      " |        steps: Number of steps for which to train the model. If `None`, train\n",
      " |          forever or train until `input_fn` generates the `tf.errors.OutOfRange`\n",
      " |          error or `StopIteration` exception. `steps` works incrementally. If you\n",
      " |          call two times `train(steps=10)` then training occurs in total 20 steps.\n",
      " |          If `OutOfRange` or `StopIteration` occurs in the middle, training stops\n",
      " |          before 20 steps. If you don't want to have incremental behavior please\n",
      " |          set `max_steps` instead. If set, `max_steps` must be `None`.\n",
      " |        max_steps: Number of total steps for which to train model. If `None`,\n",
      " |          train forever or train until `input_fn` generates the\n",
      " |          `tf.errors.OutOfRange` error or `StopIteration` exception. If set,\n",
      " |          `steps` must be `None`. If `OutOfRange` or `StopIteration` occurs in the\n",
      " |          middle, training stops before `max_steps` steps. Two calls to\n",
      " |          `train(steps=100)` means 200 training iterations. On the other hand, two\n",
      " |          calls to `train(max_steps=100)` means that the second call will not do\n",
      " |          any iteration since first call did all 100 steps.\n",
      " |        saving_listeners: list of `CheckpointSaverListener` objects. Used for\n",
      " |          callbacks that run immediately before or after checkpoint savings.\n",
      " |      \n",
      " |      Returns:\n",
      " |        `self`, for chaining.\n",
      " |      \n",
      " |      Raises:\n",
      " |        ValueError: If both `steps` and `max_steps` are not `None`.\n",
      " |        ValueError: If either `steps` or `max_steps <= 0`.\n",
      " |  \n",
      " |  ----------------------------------------------------------------------\n",
      " |  Data descriptors inherited from tensorflow_estimator.python.estimator.estimator.EstimatorV2:\n",
      " |  \n",
      " |  __dict__\n",
      " |      dictionary for instance variables (if defined)\n",
      " |  \n",
      " |  __weakref__\n",
      " |      list of weak references to the object (if defined)\n",
      " |  \n",
      " |  config\n",
      " |  \n",
      " |  model_dir\n",
      " |  \n",
      " |  model_fn\n",
      " |      Returns the `model_fn` which is bound to `self.params`.\n",
      " |      \n",
      " |      Returns:\n",
      " |        The `model_fn` with following signature:\n",
      " |          `def model_fn(features, labels, mode, config)`\n",
      " |  \n",
      " |  params\n",
      "\n"
     ]
    }
   ],
   "source": [
    "help(tf.estimator.BoostedTreesClassifier)"
   ]
  },
  {
   "cell_type": "code",
   "execution_count": 20,
   "metadata": {
    "ExecuteTime": {
     "end_time": "2019-04-17T09:05:09.738494Z",
     "start_time": "2019-04-17T09:05:05.674809Z"
    }
   },
   "outputs": [
    {
     "data": {
      "text/html": [
       "<div>\n",
       "<style scoped>\n",
       "    .dataframe tbody tr th:only-of-type {\n",
       "        vertical-align: middle;\n",
       "    }\n",
       "\n",
       "    .dataframe tbody tr th {\n",
       "        vertical-align: top;\n",
       "    }\n",
       "\n",
       "    .dataframe thead th {\n",
       "        text-align: right;\n",
       "    }\n",
       "</style>\n",
       "<table border=\"1\" class=\"dataframe\">\n",
       "  <thead>\n",
       "    <tr style=\"text-align: right;\">\n",
       "      <th></th>\n",
       "      <th>0</th>\n",
       "    </tr>\n",
       "  </thead>\n",
       "  <tbody>\n",
       "    <tr>\n",
       "      <th>accuracy</th>\n",
       "      <td>0.784091</td>\n",
       "    </tr>\n",
       "    <tr>\n",
       "      <th>accuracy_baseline</th>\n",
       "      <td>0.625000</td>\n",
       "    </tr>\n",
       "    <tr>\n",
       "      <th>auc</th>\n",
       "      <td>0.826232</td>\n",
       "    </tr>\n",
       "    <tr>\n",
       "      <th>auc_precision_recall</th>\n",
       "      <td>0.802818</td>\n",
       "    </tr>\n",
       "    <tr>\n",
       "      <th>average_loss</th>\n",
       "      <td>0.587578</td>\n",
       "    </tr>\n",
       "    <tr>\n",
       "      <th>label/mean</th>\n",
       "      <td>0.375000</td>\n",
       "    </tr>\n",
       "    <tr>\n",
       "      <th>loss</th>\n",
       "      <td>0.587578</td>\n",
       "    </tr>\n",
       "    <tr>\n",
       "      <th>precision</th>\n",
       "      <td>0.956522</td>\n",
       "    </tr>\n",
       "    <tr>\n",
       "      <th>prediction/mean</th>\n",
       "      <td>0.387193</td>\n",
       "    </tr>\n",
       "    <tr>\n",
       "      <th>recall</th>\n",
       "      <td>0.444444</td>\n",
       "    </tr>\n",
       "    <tr>\n",
       "      <th>global_step</th>\n",
       "      <td>31.000000</td>\n",
       "    </tr>\n",
       "  </tbody>\n",
       "</table>\n",
       "</div>"
      ],
      "text/plain": [
       "                              0\n",
       "accuracy               0.784091\n",
       "accuracy_baseline      0.625000\n",
       "auc                    0.826232\n",
       "auc_precision_recall   0.802818\n",
       "average_loss           0.587578\n",
       "label/mean             0.375000\n",
       "loss                   0.587578\n",
       "precision              0.956522\n",
       "prediction/mean        0.387193\n",
       "recall                 0.444444\n",
       "global_step           31.000000"
      ]
     },
     "execution_count": 20,
     "metadata": {},
     "output_type": "execute_result"
    }
   ],
   "source": [
    "params = {\n",
    "    'n_batches_per_layer': 1,\n",
    "    'n_trees': 50,\n",
    "    'max_depth': 3,\n",
    "    'learning_rate': 0.01,\n",
    "    'l1_regularization': 0.0,\n",
    "    'l2_regularization': 0.0,\n",
    "    'tree_complexity': 0.0,\n",
    "    'min_node_weight': 0.0,\n",
    "    'center_bias': True,\n",
    "    'pruning_mode': 'none',\n",
    "    'quantile_sketch_epsilon': 0.01\n",
    "}\n",
    "\n",
    "est = tf.estimator.BoostedTreesClassifier(feature_columns, **params)\n",
    "\n",
    "# n_batches = 1\n",
    "# est = tf.estimator.BoostedTreesClassifier(feature_columns, n_batches_per_layer=n_batches)\n",
    "\n",
    "est.train(train_input_fn, max_steps=bst_rounds)\n",
    "\n",
    "results = est.evaluate(eval_input_fn)\n",
    "# print('accuracy: ', results['accuracy'])\n",
    "# print('dummy model: ', results['accuracy_baseline'])\n",
    "\n",
    "pd.Series(results).to_frame()"
   ]
  },
  {
   "cell_type": "code",
   "execution_count": 21,
   "metadata": {
    "ExecuteTime": {
     "end_time": "2019-04-17T09:05:10.645197Z",
     "start_time": "2019-04-17T09:05:09.740544Z"
    }
   },
   "outputs": [
    {
     "data": {
      "image/png": "[encoded data removed]",
      "text/plain": [
       "<Figure size 576x432 with 1 Axes>"
      ]
     },
     "metadata": {
      "needs_background": "light"
     },
     "output_type": "display_data"
    }
   ],
   "source": [
    "pred_dicts = list(est.predict(eval_input_fn))\n",
    "probs = pd.Series([pred['probabilities'][1] for pred in pred_dicts])\n",
    "\n",
    "probs.plot(kind='hist', bins=20, title='predicted probabilities');"
   ]
  },
  {
   "cell_type": "code",
   "execution_count": 22,
   "metadata": {
    "ExecuteTime": {
     "end_time": "2019-04-17T09:05:11.013504Z",
     "start_time": "2019-04-17T09:05:10.651779Z"
    }
   },
   "outputs": [
    {
     "data": {
      "text/plain": [
       "(0, 1.05)"
      ]
     },
     "execution_count": 22,
     "metadata": {},
     "output_type": "execute_result"
    },
    {
     "data": {
      "image/png": "[encoded data removed]",
      "text/plain": [
       "<Figure size 576x432 with 1 Axes>"
      ]
     },
     "metadata": {
      "needs_background": "light"
     },
     "output_type": "display_data"
    }
   ],
   "source": [
    "from sklearn.metrics import roc_curve\n",
    "from matplotlib import pyplot as plt\n",
    "\n",
    "fpr, tpr, _ = roc_curve(y_eval, probs)\n",
    "plt.plot(fpr, tpr)\n",
    "plt.title('ROC curve')\n",
    "plt.xlabel('false positive rate')\n",
    "plt.ylabel('true positive rate')\n",
    "plt.xlim(0,)\n",
    "plt.ylim(0,)"
   ]
  },
  {
   "cell_type": "code",
   "execution_count": 23,
   "metadata": {
    "ExecuteTime": {
     "end_time": "2019-04-17T09:05:11.025992Z",
     "start_time": "2019-04-17T09:05:11.018526Z"
    }
   },
   "outputs": [
    {
     "data": {
      "text/plain": [
       "0.756501796846105"
      ]
     },
     "execution_count": 23,
     "metadata": {},
     "output_type": "execute_result"
    }
   ],
   "source": [
    "from sklearn.metrics import average_precision_score\n",
    "\n",
    "average_precision_score(y_eval, probs)"
   ]
  },
  {
   "cell_type": "code",
   "execution_count": null,
   "metadata": {},
   "outputs": [],
   "source": []
  },
  {
   "cell_type": "code",
   "execution_count": null,
   "metadata": {},
   "outputs": [],
   "source": []
  },
  {
   "cell_type": "markdown",
   "metadata": {},
   "source": [
    "You may find similar experiments from [Gradient Boosting in TensorFlow vs XGBoost](https://nicolovaligi.com/gradient-boosting-tensorflow-xgboost.html)."
   ]
  },
  {
   "cell_type": "code",
   "execution_count": null,
   "metadata": {},
   "outputs": [],
   "source": []
  }
 ],
 "metadata": {
  "kernelspec": {
   "display_name": "python3.7",
   "language": "python",
   "name": "python3.7"
  },
  "language_info": {
   "codemirror_mode": {
    "name": "ipython",
    "version": 3
   },
   "file_extension": ".py",
   "mimetype": "text/x-python",
   "name": "python",
   "nbconvert_exporter": "python",
   "pygments_lexer": "ipython3",
   "version": "3.7.3"
  },
  "toc": {
   "nav_menu": {},
   "number_sections": false,
   "sideBar": true,
   "skip_h1_title": false,
   "toc_cell": false,
   "toc_position": {},
   "toc_section_display": "none",
   "toc_window_display": false
  },
  "varInspector": {
   "cols": {
    "lenName": 16,
    "lenType": 16,
    "lenVar": 40
   },
   "kernels_config": {
    "python": {
     "delete_cmd_postfix": "",
     "delete_cmd_prefix": "del ",
     "library": "var_list.py",
     "varRefreshCmd": "print(var_dic_list())"
    },
    "r": {
     "delete_cmd_postfix": ") ",
     "delete_cmd_prefix": "rm(",
     "library": "var_list.r",
     "varRefreshCmd": "cat(var_dic_list()) "
    }
   },
   "types_to_exclude": [
    "module",
    "function",
    "builtin_function_or_method",
    "instance",
    "_Feature"
   ],
   "window_display": false
  }
 },
 "nbformat": 4,
 "nbformat_minor": 2
}
